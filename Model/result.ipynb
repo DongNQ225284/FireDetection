{
 "cells": [
  {
   "cell_type": "code",
   "execution_count": 1,
   "id": "78603190",
   "metadata": {},
   "outputs": [],
   "source": [
    "from ultralytics import YOLO\n",
    "import pandas as pd\n",
    "import os"
   ]
  },
  {
   "cell_type": "code",
   "execution_count": 2,
   "id": "2fc2fb9e",
   "metadata": {},
   "outputs": [],
   "source": [
    "def evaluate(model_path, data, imgsz=416):\n",
    "    model = YOLO(model_path)\n",
    "    metrics = model.val(data=data, imgsz=imgsz)\n",
    "    model_name = os.path.basename(model_path)\n",
    "    data_name = os.path.basename(os.path.dirname(data))\n",
    "    result = {\n",
    "        \"Model\": model_name,\n",
    "        \"Data\": data_name,\n",
    "        \"Precision\": metrics.results_dict['metrics/precision(B)'],\n",
    "        \"Recall\": metrics.results_dict['metrics/recall(B)'],\n",
    "        \"mAP@0.5\": metrics.results_dict['metrics/mAP50(B)'],\n",
    "        \"mAP@0.5:0.95\": metrics.results_dict['metrics/mAP50-95(B)']\n",
    "    }\n",
    "    return pd.DataFrame([result])"
   ]
  },
  {
   "cell_type": "code",
   "execution_count": 3,
   "id": "00ce6e70",
   "metadata": {},
   "outputs": [],
   "source": [
    "data_v1 = \"../Data/Fire_indoor_data_v1/data.yaml\"\n",
    "data_v2 = \"../Data/Fire_indoor_data_v2/data.yaml\"\n",
    "data_v3 = \"../Data/Fire_indoor_data_v3/data.yaml\"\n",
    "\n",
    "best_v1_1 = \"best_v1_1.pt\"\n",
    "best_v1_2 = \"best_v1_2.pt\"\n",
    "best_v2_1 = \"best_v2_1.pt\"\n",
    "best_v2_2 = \"best_v2_2.pt\"\n",
    "best_v3   = \"best_v3.pt\""
   ]
  },
  {
   "cell_type": "code",
   "execution_count": 4,
   "id": "f01fe0ed",
   "metadata": {},
   "outputs": [
    {
     "name": "stdout",
     "output_type": "stream",
     "text": [
      "Ultralytics 8.3.176  Python-3.10.11 torch-2.1.2+cu118 CUDA:0 (NVIDIA GeForce RTX 3050 Laptop GPU, 4096MiB)\n",
      "YOLO11n summary (fused): 100 layers, 2,582,347 parameters, 0 gradients, 6.3 GFLOPs\n",
      "\u001b[34m\u001b[1mval: \u001b[0mFast image access  (ping: 0.30.1 ms, read: 60.88.6 MB/s, size: 22.4 KB)\n"
     ]
    },
    {
     "name": "stderr",
     "output_type": "stream",
     "text": [
      "\u001b[34m\u001b[1mval: \u001b[0mScanning D:\\ProjectCV\\fire_detection\\Data\\Fire_indoor_data_v1\\valid\\labels.cache... 200 images, 20 backgrounds, 0 corrupt: 100%|██████████| 200/200 [00:00<?, ?it/s]\n",
      "                 Class     Images  Instances      Box(P          R      mAP50  mAP50-95): 100%|██████████| 13/13 [00:01<00:00,  6.81it/s]\n"
     ]
    },
    {
     "name": "stdout",
     "output_type": "stream",
     "text": [
      "                   all        200        242      0.845       0.74      0.838      0.431\n",
      "Speed: 0.3ms preprocess, 5.0ms inference, 0.0ms loss, 1.7ms postprocess per image\n",
      "Results saved to \u001b[1mruns\\detect\\val\u001b[0m\n"
     ]
    },
    {
     "data": {
      "text/html": [
       "<div>\n",
       "<style scoped>\n",
       "    .dataframe tbody tr th:only-of-type {\n",
       "        vertical-align: middle;\n",
       "    }\n",
       "\n",
       "    .dataframe tbody tr th {\n",
       "        vertical-align: top;\n",
       "    }\n",
       "\n",
       "    .dataframe thead th {\n",
       "        text-align: right;\n",
       "    }\n",
       "</style>\n",
       "<table border=\"1\" class=\"dataframe\">\n",
       "  <thead>\n",
       "    <tr style=\"text-align: right;\">\n",
       "      <th></th>\n",
       "      <th>Model</th>\n",
       "      <th>Data</th>\n",
       "      <th>Precision</th>\n",
       "      <th>Recall</th>\n",
       "      <th>mAP@0.5</th>\n",
       "      <th>mAP@0.5:0.95</th>\n",
       "    </tr>\n",
       "  </thead>\n",
       "  <tbody>\n",
       "    <tr>\n",
       "      <th>0</th>\n",
       "      <td>best_v1_1.pt</td>\n",
       "      <td>Fire_indoor_data_v1</td>\n",
       "      <td>0.84497</td>\n",
       "      <td>0.739669</td>\n",
       "      <td>0.83807</td>\n",
       "      <td>0.430727</td>\n",
       "    </tr>\n",
       "  </tbody>\n",
       "</table>\n",
       "</div>"
      ],
      "text/plain": [
       "          Model                 Data  Precision    Recall  mAP@0.5  \\\n",
       "0  best_v1_1.pt  Fire_indoor_data_v1    0.84497  0.739669  0.83807   \n",
       "\n",
       "   mAP@0.5:0.95  \n",
       "0      0.430727  "
      ]
     },
     "execution_count": 4,
     "metadata": {},
     "output_type": "execute_result"
    }
   ],
   "source": [
    "evaluate(best_v1_1, data_v1)"
   ]
  },
  {
   "cell_type": "code",
   "execution_count": 12,
   "id": "0c12b74b",
   "metadata": {},
   "outputs": [
    {
     "name": "stdout",
     "output_type": "stream",
     "text": [
      "Ultralytics 8.3.176  Python-3.10.11 torch-2.1.2+cu118 CUDA:0 (NVIDIA GeForce RTX 3050 Laptop GPU, 4096MiB)\n",
      "YOLO11n summary (fused): 100 layers, 2,582,347 parameters, 0 gradients, 6.3 GFLOPs\n",
      "\u001b[34m\u001b[1mval: \u001b[0mFast image access  (ping: 0.00.0 ms, read: 293.986.5 MB/s, size: 17.6 KB)\n"
     ]
    },
    {
     "name": "stderr",
     "output_type": "stream",
     "text": [
      "\u001b[34m\u001b[1mval: \u001b[0mScanning D:\\ProjectCV\\fire_detection\\Data\\Fire_indoor_data_v1\\valid\\labels.cache... 200 images, 20 backgrounds, 0 corrupt: 100%|██████████| 200/200 [00:00<?, ?it/s]\n",
      "                 Class     Images  Instances      Box(P          R      mAP50  mAP50-95): 100%|██████████| 13/13 [00:01<00:00,  8.77it/s]\n"
     ]
    },
    {
     "name": "stdout",
     "output_type": "stream",
     "text": [
      "                   all        200        242      0.823       0.79      0.869      0.485\n",
      "Speed: 0.3ms preprocess, 3.4ms inference, 0.0ms loss, 1.3ms postprocess per image\n",
      "Results saved to \u001b[1mruns\\detect\\val9\u001b[0m\n"
     ]
    },
    {
     "data": {
      "text/html": [
       "<div>\n",
       "<style scoped>\n",
       "    .dataframe tbody tr th:only-of-type {\n",
       "        vertical-align: middle;\n",
       "    }\n",
       "\n",
       "    .dataframe tbody tr th {\n",
       "        vertical-align: top;\n",
       "    }\n",
       "\n",
       "    .dataframe thead th {\n",
       "        text-align: right;\n",
       "    }\n",
       "</style>\n",
       "<table border=\"1\" class=\"dataframe\">\n",
       "  <thead>\n",
       "    <tr style=\"text-align: right;\">\n",
       "      <th></th>\n",
       "      <th>Model</th>\n",
       "      <th>Data</th>\n",
       "      <th>Precision</th>\n",
       "      <th>Recall</th>\n",
       "      <th>mAP@0.5</th>\n",
       "      <th>mAP@0.5:0.95</th>\n",
       "    </tr>\n",
       "  </thead>\n",
       "  <tbody>\n",
       "    <tr>\n",
       "      <th>0</th>\n",
       "      <td>best_v1_2.pt</td>\n",
       "      <td>Fire_indoor_data_v1</td>\n",
       "      <td>0.823466</td>\n",
       "      <td>0.790294</td>\n",
       "      <td>0.868791</td>\n",
       "      <td>0.485459</td>\n",
       "    </tr>\n",
       "  </tbody>\n",
       "</table>\n",
       "</div>"
      ],
      "text/plain": [
       "          Model                 Data  Precision    Recall   mAP@0.5  \\\n",
       "0  best_v1_2.pt  Fire_indoor_data_v1   0.823466  0.790294  0.868791   \n",
       "\n",
       "   mAP@0.5:0.95  \n",
       "0      0.485459  "
      ]
     },
     "execution_count": 12,
     "metadata": {},
     "output_type": "execute_result"
    }
   ],
   "source": [
    "evaluate(best_v1_2, data_v1)"
   ]
  },
  {
   "cell_type": "code",
   "execution_count": 6,
   "id": "c1ce9aea",
   "metadata": {},
   "outputs": [
    {
     "name": "stdout",
     "output_type": "stream",
     "text": [
      "Ultralytics 8.3.176  Python-3.10.11 torch-2.1.2+cu118 CUDA:0 (NVIDIA GeForce RTX 3050 Laptop GPU, 4096MiB)\n",
      "YOLO11n summary (fused): 100 layers, 2,582,542 parameters, 0 gradients, 6.3 GFLOPs\n",
      "\u001b[34m\u001b[1mval: \u001b[0mFast image access  (ping: 0.30.1 ms, read: 50.813.9 MB/s, size: 16.8 KB)\n"
     ]
    },
    {
     "name": "stderr",
     "output_type": "stream",
     "text": [
      "\u001b[34m\u001b[1mval: \u001b[0mScanning D:\\ProjectCV\\fire_detection\\Data\\Fire_indoor_data_v2\\valid\\labels.cache... 200 images, 0 backgrounds, 0 corrupt: 100%|██████████| 200/200 [00:00<?, ?it/s]\n",
      "                 Class     Images  Instances      Box(P          R      mAP50  mAP50-95): 100%|██████████| 13/13 [00:01<00:00,  7.38it/s]\n"
     ]
    },
    {
     "name": "stdout",
     "output_type": "stream",
     "text": [
      "                   all        200        369      0.899      0.735      0.847      0.492\n",
      "           fire-indoor        180        242      0.893      0.761      0.891      0.488\n",
      "              non-fire         61        127      0.905      0.709      0.803      0.497\n",
      "Speed: 0.4ms preprocess, 4.0ms inference, 0.0ms loss, 1.2ms postprocess per image\n",
      "Results saved to \u001b[1mruns\\detect\\val3\u001b[0m\n"
     ]
    },
    {
     "data": {
      "text/html": [
       "<div>\n",
       "<style scoped>\n",
       "    .dataframe tbody tr th:only-of-type {\n",
       "        vertical-align: middle;\n",
       "    }\n",
       "\n",
       "    .dataframe tbody tr th {\n",
       "        vertical-align: top;\n",
       "    }\n",
       "\n",
       "    .dataframe thead th {\n",
       "        text-align: right;\n",
       "    }\n",
       "</style>\n",
       "<table border=\"1\" class=\"dataframe\">\n",
       "  <thead>\n",
       "    <tr style=\"text-align: right;\">\n",
       "      <th></th>\n",
       "      <th>Model</th>\n",
       "      <th>Data</th>\n",
       "      <th>Precision</th>\n",
       "      <th>Recall</th>\n",
       "      <th>mAP@0.5</th>\n",
       "      <th>mAP@0.5:0.95</th>\n",
       "    </tr>\n",
       "  </thead>\n",
       "  <tbody>\n",
       "    <tr>\n",
       "      <th>0</th>\n",
       "      <td>best_v2_1.pt</td>\n",
       "      <td>Fire_indoor_data_v2</td>\n",
       "      <td>0.899261</td>\n",
       "      <td>0.734727</td>\n",
       "      <td>0.847251</td>\n",
       "      <td>0.492445</td>\n",
       "    </tr>\n",
       "  </tbody>\n",
       "</table>\n",
       "</div>"
      ],
      "text/plain": [
       "          Model                 Data  Precision    Recall   mAP@0.5  \\\n",
       "0  best_v2_1.pt  Fire_indoor_data_v2   0.899261  0.734727  0.847251   \n",
       "\n",
       "   mAP@0.5:0.95  \n",
       "0      0.492445  "
      ]
     },
     "execution_count": 6,
     "metadata": {},
     "output_type": "execute_result"
    }
   ],
   "source": [
    "evaluate(best_v2_1, data_v2)"
   ]
  },
  {
   "cell_type": "code",
   "execution_count": 7,
   "id": "ffbc90ba",
   "metadata": {},
   "outputs": [
    {
     "name": "stdout",
     "output_type": "stream",
     "text": [
      "Ultralytics 8.3.176  Python-3.10.11 torch-2.1.2+cu118 CUDA:0 (NVIDIA GeForce RTX 3050 Laptop GPU, 4096MiB)\n",
      "YOLO11n summary (fused): 100 layers, 2,582,542 parameters, 0 gradients, 6.3 GFLOPs\n",
      "\u001b[34m\u001b[1mval: \u001b[0mFast image access  (ping: 0.00.0 ms, read: 239.7108.6 MB/s, size: 18.3 KB)\n"
     ]
    },
    {
     "name": "stderr",
     "output_type": "stream",
     "text": [
      "\u001b[34m\u001b[1mval: \u001b[0mScanning D:\\ProjectCV\\fire_detection\\Data\\Fire_indoor_data_v2\\valid\\labels.cache... 200 images, 0 backgrounds, 0 corrupt: 100%|██████████| 200/200 [00:00<?, ?it/s]\n",
      "                 Class     Images  Instances      Box(P          R      mAP50  mAP50-95): 100%|██████████| 13/13 [00:01<00:00,  8.62it/s]\n"
     ]
    },
    {
     "name": "stdout",
     "output_type": "stream",
     "text": [
      "                   all        200        369      0.917      0.764      0.858      0.512\n",
      "           fire-indoor        180        242      0.928      0.773      0.879      0.475\n",
      "              non-fire         61        127      0.905      0.756      0.838      0.549\n",
      "Speed: 0.3ms preprocess, 3.3ms inference, 0.0ms loss, 1.3ms postprocess per image\n",
      "Results saved to \u001b[1mruns\\detect\\val4\u001b[0m\n"
     ]
    },
    {
     "data": {
      "text/html": [
       "<div>\n",
       "<style scoped>\n",
       "    .dataframe tbody tr th:only-of-type {\n",
       "        vertical-align: middle;\n",
       "    }\n",
       "\n",
       "    .dataframe tbody tr th {\n",
       "        vertical-align: top;\n",
       "    }\n",
       "\n",
       "    .dataframe thead th {\n",
       "        text-align: right;\n",
       "    }\n",
       "</style>\n",
       "<table border=\"1\" class=\"dataframe\">\n",
       "  <thead>\n",
       "    <tr style=\"text-align: right;\">\n",
       "      <th></th>\n",
       "      <th>Model</th>\n",
       "      <th>Data</th>\n",
       "      <th>Precision</th>\n",
       "      <th>Recall</th>\n",
       "      <th>mAP@0.5</th>\n",
       "      <th>mAP@0.5:0.95</th>\n",
       "    </tr>\n",
       "  </thead>\n",
       "  <tbody>\n",
       "    <tr>\n",
       "      <th>0</th>\n",
       "      <td>best_v2_2.pt</td>\n",
       "      <td>Fire_indoor_data_v2</td>\n",
       "      <td>0.916785</td>\n",
       "      <td>0.764316</td>\n",
       "      <td>0.85817</td>\n",
       "      <td>0.512319</td>\n",
       "    </tr>\n",
       "  </tbody>\n",
       "</table>\n",
       "</div>"
      ],
      "text/plain": [
       "          Model                 Data  Precision    Recall  mAP@0.5  \\\n",
       "0  best_v2_2.pt  Fire_indoor_data_v2   0.916785  0.764316  0.85817   \n",
       "\n",
       "   mAP@0.5:0.95  \n",
       "0      0.512319  "
      ]
     },
     "execution_count": 7,
     "metadata": {},
     "output_type": "execute_result"
    }
   ],
   "source": [
    "evaluate(best_v2_2, data_v2)"
   ]
  },
  {
   "cell_type": "code",
   "execution_count": 11,
   "id": "12441e68",
   "metadata": {},
   "outputs": [
    {
     "name": "stdout",
     "output_type": "stream",
     "text": [
      "Ultralytics 8.3.176  Python-3.10.11 torch-2.1.2+cu118 CUDA:0 (NVIDIA GeForce RTX 3050 Laptop GPU, 4096MiB)\n",
      "YOLO11n summary (fused): 100 layers, 2,582,347 parameters, 0 gradients, 6.3 GFLOPs\n",
      "\u001b[34m\u001b[1mval: \u001b[0mFast image access  (ping: 0.00.0 ms, read: 375.2156.5 MB/s, size: 21.2 KB)\n"
     ]
    },
    {
     "name": "stderr",
     "output_type": "stream",
     "text": [
      "\u001b[34m\u001b[1mval: \u001b[0mScanning D:\\ProjectCV\\fire_detection\\Data\\Fire_Indoor_data_v3\\valid\\labels.cache... 1092 images, 35 backgrounds, 0 corrupt: 100%|██████████| 1092/1092 [00:00<?, ?it/s]"
     ]
    },
    {
     "name": "stdout",
     "output_type": "stream",
     "text": [
      "WARNING Box and segment counts should be equal, but got len(segments) = 194, len(boxes) = 1810. To resolve this only boxes will be used and all segments will be removed. To avoid this please supply either a detect or segment dataset, not a detect-segment mixed dataset.\n"
     ]
    },
    {
     "name": "stderr",
     "output_type": "stream",
     "text": [
      "\n",
      "                 Class     Images  Instances      Box(P          R      mAP50  mAP50-95): 100%|██████████| 69/69 [00:06<00:00, 11.25it/s]\n"
     ]
    },
    {
     "name": "stdout",
     "output_type": "stream",
     "text": [
      "                   all       1092       1810      0.853      0.782      0.873      0.551\n",
      "Speed: 0.2ms preprocess, 2.3ms inference, 0.0ms loss, 0.9ms postprocess per image\n",
      "Results saved to \u001b[1mruns\\detect\\val8\u001b[0m\n"
     ]
    },
    {
     "data": {
      "text/html": [
       "<div>\n",
       "<style scoped>\n",
       "    .dataframe tbody tr th:only-of-type {\n",
       "        vertical-align: middle;\n",
       "    }\n",
       "\n",
       "    .dataframe tbody tr th {\n",
       "        vertical-align: top;\n",
       "    }\n",
       "\n",
       "    .dataframe thead th {\n",
       "        text-align: right;\n",
       "    }\n",
       "</style>\n",
       "<table border=\"1\" class=\"dataframe\">\n",
       "  <thead>\n",
       "    <tr style=\"text-align: right;\">\n",
       "      <th></th>\n",
       "      <th>Model</th>\n",
       "      <th>Data</th>\n",
       "      <th>Precision</th>\n",
       "      <th>Recall</th>\n",
       "      <th>mAP@0.5</th>\n",
       "      <th>mAP@0.5:0.95</th>\n",
       "    </tr>\n",
       "  </thead>\n",
       "  <tbody>\n",
       "    <tr>\n",
       "      <th>0</th>\n",
       "      <td>best_v3.pt</td>\n",
       "      <td>Fire_indoor_data_v3</td>\n",
       "      <td>0.852691</td>\n",
       "      <td>0.78232</td>\n",
       "      <td>0.873176</td>\n",
       "      <td>0.551144</td>\n",
       "    </tr>\n",
       "  </tbody>\n",
       "</table>\n",
       "</div>"
      ],
      "text/plain": [
       "        Model                 Data  Precision   Recall   mAP@0.5  mAP@0.5:0.95\n",
       "0  best_v3.pt  Fire_indoor_data_v3   0.852691  0.78232  0.873176      0.551144"
      ]
     },
     "execution_count": 11,
     "metadata": {},
     "output_type": "execute_result"
    }
   ],
   "source": [
    "evaluate(best_v3, data_v3)"
   ]
  }
 ],
 "metadata": {
  "kernelspec": {
   "display_name": "Python 3",
   "language": "python",
   "name": "python3"
  },
  "language_info": {
   "codemirror_mode": {
    "name": "ipython",
    "version": 3
   },
   "file_extension": ".py",
   "mimetype": "text/x-python",
   "name": "python",
   "nbconvert_exporter": "python",
   "pygments_lexer": "ipython3",
   "version": "3.10.11"
  }
 },
 "nbformat": 4,
 "nbformat_minor": 5
}
